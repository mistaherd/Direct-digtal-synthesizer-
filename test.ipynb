{
 "cells": [
  {
   "cell_type": "code",
   "execution_count": 259,
   "id": "55924468-646d-4ca5-b5ea-937d625f9438",
   "metadata": {},
   "outputs": [],
   "source": [
    "import numpy as np\n",
    "import sys\n",
    "def level_shift(data):\n",
    "    return np.round(abs(data)*255).astype(int)\n",
    "def sine_wave_cycle_logic(choice:int,fs=1,Number_of_bits=8,amount_ofmem=32):\n",
    "    if choice==0:\n",
    "        N=2**Number_of_bits\n",
    "        t=np.linspace(0,N,amount_ofmem)\n",
    "\n",
    "        output= np.sin(2*np.pi*fs*t)\n",
    "        output=level_shift(output)\n",
    "    elif choice==1:\n",
    "        N=2**Number_of_bits\n",
    "        t=np.linspace(0,N,amount_ofmem*2)\n",
    "        output= np.sin(2*np.pi*fs*t)\n",
    "        output=level_shift(output)[:32]\n",
    "    elif choice==2:\n",
    "        N=2**Number_of_bits\n",
    "        t=np.linspace(0,N,amount_ofmem*4)\n",
    "\n",
    "        output= np.sin(2*np.pi*fs*t)+12\n",
    "        output=level_shift(output)[:32]\n",
    "    else:\n",
    "        print(\"0: full cycle sine wave \\n1: half cycle sine wave\")\n",
    "        return None\n",
    "\n",
    "    return output\n",
    "def complement_2s(data,ammount_of_bits):\n",
    "    ones=\"\".join('0' if data[i]=='1' else '1' for i in range(ammount_of_bits))\n",
    "    max_val=(2**ammount_of_bits)-1\n",
    "    ones_dig=int(ones,2)\n",
    "    if ones_dig>max_val:\n",
    "        ones_dig-=1\n",
    "    twos=bin(ones_dig)\n",
    "  \n",
    "    return twos[2:]\n",
    "\n",
    "output=sine_wave_cycle_logic(0)\n",
    "\n",
    "def write_mif(output,fname=None,amountofbits=8,size_ofmem=32):\n",
    "    with open(r\"C:\\Users\\lanzb\\Documents\\Github\\Direct-digtal-synthesizer-\\coswavesoted.mif\",'w') as file:\n",
    "        file.write(\"--This has been generated from python\\n\")\n",
    "        change_string=f\"DEPTH = {size_ofmem}; -- The size of memory in words \\nWIDTH = {amountofbits}; -- The size of data in bits \\nADDRESS_RADIX = HEX; -- The radix for address values \\nDATA_RADIX = BIN; -- The radix for data values \\nCONTENT -- start of (address : data pairs)\\nBEGIN\\n\"\n",
    "        file.write(change_string)\n",
    "      \n",
    "        for i in range(size_ofmem):\n",
    "            message =hex(i)[2:]\n",
    "            if len(message)<2:\n",
    "                message ='0'+message\n",
    "            b=bin(int(output[i]))[2:]\n",
    "            lenofb=len(b)\n",
    "           \n",
    "            half=round((2**amountofbits)-1)\n",
    "            if int(output[i])<128:\n",
    "                if lenofb<amountofbits:\n",
    "                    a=\"\".join([\"0\" for j in range(amountofbits-lenofb)])\n",
    "                    b=a+b\n",
    "                b=complement_2s(b,amountofbits)\n",
    "                \n",
    "            else:\n",
    "                if lenofb<amountofbits:\n",
    "                    a=\"\".join([\"0\" for j in range(amountofbits-lenofb)])\n",
    "                    b=a+b\n",
    "            \n",
    "            file.write(f\"\\n{message} : {b};\")\n",
    "        file.write(\"\\nEND;\")\n",
    "write_mif(output)"
   ]
  },
  {
   "cell_type": "code",
   "execution_count": 195,
   "id": "b16f6123-843c-449c-b509-c55876ec781a",
   "metadata": {},
   "outputs": [
    {
     "data": {
      "text/plain": [
       "array([  0, 255,  26, 252,  51, 247,  76, 239, 101, 229, 124, 216, 146,\n",
       "       202, 166, 185, 185, 166, 202, 146, 216, 124, 229, 101, 239,  76,\n",
       "       247,  51, 252,  26, 255,   0])"
      ]
     },
     "execution_count": 195,
     "metadata": {},
     "output_type": "execute_result"
    }
   ],
   "source": [
    "import numpy as np\n",
    "import sys\n",
    "def level_shift(data):\n",
    "    return np.round(abs(data)*255).astype(int)\n",
    "def sine_wave_cycle_logic(choice:int,fs=1,Number_of_bits=8,amount_ofmem=32):\n",
    "    if choice==0:\n",
    "        N=2**Number_of_bits\n",
    "        t=np.linspace(0,N,amount_ofmem)\n",
    "\n",
    "        output= np.sin(2*np.pi*fs*t)\n",
    "        output=level_shift(output)\n",
    "    return output\n",
    "sine_wave_cycle_logic(0)"
   ]
  }
 ],
 "metadata": {
  "kernelspec": {
   "display_name": "Python 3 (ipykernel)",
   "language": "python",
   "name": "python3"
  },
  "language_info": {
   "codemirror_mode": {
    "name": "ipython",
    "version": 3
   },
   "file_extension": ".py",
   "mimetype": "text/x-python",
   "name": "python",
   "nbconvert_exporter": "python",
   "pygments_lexer": "ipython3",
   "version": "3.12.4"
  }
 },
 "nbformat": 4,
 "nbformat_minor": 5
}
