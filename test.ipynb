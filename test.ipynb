{
 "cells": [
  {
   "cell_type": "code",
   "execution_count": 13,
   "id": "55924468-646d-4ca5-b5ea-937d625f9438",
   "metadata": {},
   "outputs": [],
   "source": [
    "import numpy as np\n",
    "import sys\n",
    "def sine_wave_cycle_logic(choice:int,fs=1,Number_of_bits=8,amount_ofmem=32):\n",
    "    if choice==0:\n",
    "        N=2**Number_of_bits\n",
    "        t=np.linspace(0,N,amount_ofmem)\n",
    "\n",
    "        output= np.sin(2*np.pi*fs*t)*255\n",
    "        output=output.astype(np.uint8)\n",
    "    elif choice==1:\n",
    "        N=2**Number_of_bits\n",
    "        t=np.linspace(0,N,amount_ofmem*2)\n",
    "        output= np.sin(2*np.pi*fs*t)+12\n",
    "        output=np.round(output)[:32]\n",
    "    elif choice==2:\n",
    "        N=2**Number_of_bits\n",
    "        t=np.linspace(0,N,amount_ofmem*4)\n",
    "\n",
    "        output= np.sin(2*np.pi*fs*t)+12\n",
    "        output=np.round(output)[:32]\n",
    "    else:\n",
    "        print(\"0: full cycle sine wave \\n1: half cycle sine wave\")\n",
    "        return None\n",
    "\n",
    "    return output\n",
    "def complement_2s(data):\n",
    "    ones=\"\".join('0' if data[i]=='1' else '1' for i in range(len(data)))\n",
    "    j=False\n",
    "    i=0\n",
    "    twos=bin(int(ones,2)+1)\n",
    "\n",
    "    return twos\n",
    "\n",
    "output=sine_wave_cycle_logic(0)\n",
    "\n",
    "def write_mif(fname=None,amountofbits=8,size_ofmem=32,output):\n",
    "    with open(r\"C:\\Users\\lanzb\\Documents\\Github\\Direct-digtal-synthesizer-\\coswavesoted.mif\",'w') as file:\n",
    "        file.write(\"--This has been generated from python\\n\")\n",
    "        change_string=f\"DEPTH = {size_ofmem}; -- The size of memory in words \\nWIDTH =10; -- The size of data in bits \\nADDRESS_RADIX = HEX; -- The radix for address values \\nDATA_RADIX = BIN; -- The radix for data values \\nCONTENT -- start of (address : data pairs) \"\n",
    "        file.write(\"DEPTH = 32; -- The size of memory in words \\nWIDTH =10; -- The size of data in bits \\nADDRESS_RADIX = HEX; -- The radix for address values \\nDATA_RADIX = BIN; -- The radix for data values \\nCONTENT -- start of (address : data pairs) \")\n",
    "        file.write(\"\\nBEGIN\\n\")\n",
    "        for i in range(0,len(output)):\n",
    "            message =hex(i)[2:]\n",
    "            if len(hex(i)[2:])<2:\n",
    "                message ='0'+hex(i)[2:]\n",
    "            b=bin(int(output[i]))\n",
    "            lenofb=len(b)\n",
    "            if int(output[i])<12:\n",
    "\n",
    "                a=\"\".join([\"0\" for j in range(8-lenofb)])\n",
    "                b=a+b\n",
    "                b=complement_1s(b)\n",
    "            else:\n",
    "                b=bin(int(output[i]))[2:]\n",
    "                a=\"\".join([\"0\" for j in range(8-lenofb)])\n",
    "                b=a+b\n",
    "              \n",
    "            file.write(f\"\\n{message} : {b};\")\n",
    "        file.write(\"\\nEnd\")\n",
    "        print(change_string)\n",
    "write_mif(output="
   ]
  },
  {
   "cell_type": "code",
   "execution_count": null,
   "id": "e8d2d11e-f880-4ae7-b90b-32cf60f541f4",
   "metadata": {},
   "outputs": [],
   "source": []
  },
  {
   "cell_type": "code",
   "execution_count": null,
   "id": "3b389b47-7409-4691-b398-c42f2e5d93e2",
   "metadata": {},
   "outputs": [],
   "source": []
  },
  {
   "cell_type": "code",
   "execution_count": null,
   "id": "b16f6123-843c-449c-b509-c55876ec781a",
   "metadata": {},
   "outputs": [],
   "source": []
  }
 ],
 "metadata": {
  "kernelspec": {
   "display_name": "Python 3 (ipykernel)",
   "language": "python",
   "name": "python3"
  },
  "language_info": {
   "codemirror_mode": {
    "name": "ipython",
    "version": 3
   },
   "file_extension": ".py",
   "mimetype": "text/x-python",
   "name": "python",
   "nbconvert_exporter": "python",
   "pygments_lexer": "ipython3",
   "version": "3.12.4"
  }
 },
 "nbformat": 4,
 "nbformat_minor": 5
}
